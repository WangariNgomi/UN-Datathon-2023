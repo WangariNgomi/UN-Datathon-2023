{
 "cells": [
  {
   "cell_type": "code",
   "execution_count": 15,
   "metadata": {
    "colab": {
     "base_uri": "https://localhost:8080/"
    },
    "id": "qianOm8xCu3E",
    "outputId": "582c1415-4656-4703-82b7-f20785911903"
   },
   "outputs": [
    {
     "name": "stdout",
     "output_type": "stream",
     "text": [
      "Requirement already satisfied: antigranular in /home/ec2-user/anaconda3/envs/python3/lib/python3.10/site-packages (0.2.12)\n",
      "Requirement already satisfied: diffprivlib<0.7.0,>=0.6.2 in /home/ec2-user/anaconda3/envs/python3/lib/python3.10/site-packages (from antigranular) (0.6.3)\n",
      "Requirement already satisfied: ipython<8.0.0,>=7.34.0 in /home/ec2-user/anaconda3/envs/python3/lib/python3.10/site-packages (from antigranular) (7.34.0)\n",
      "Requirement already satisfied: oblv-client<0.2.0,>=0.1.15 in /home/ec2-user/anaconda3/envs/python3/lib/python3.10/site-packages (from antigranular) (0.1.15)\n",
      "Requirement already satisfied: onnx<2.0.0,>=1.14.0 in /home/ec2-user/anaconda3/envs/python3/lib/python3.10/site-packages (from antigranular) (1.15.0)\n",
      "Requirement already satisfied: pandas<2.0.0,>=1.5.3 in /home/ec2-user/anaconda3/envs/python3/lib/python3.10/site-packages (from antigranular) (1.5.3)\n",
      "Requirement already satisfied: pydantic<2.0.0,>=1.10.7 in /home/ec2-user/anaconda3/envs/python3/lib/python3.10/site-packages (from antigranular) (1.10.13)\n",
      "Requirement already satisfied: requests<3.0.0,>=2.31.0 in /home/ec2-user/anaconda3/envs/python3/lib/python3.10/site-packages (from antigranular) (2.31.0)\n",
      "Requirement already satisfied: numpy>=1.21.6 in /home/ec2-user/anaconda3/envs/python3/lib/python3.10/site-packages (from diffprivlib<0.7.0,>=0.6.2->antigranular) (1.22.3)\n",
      "Requirement already satisfied: scikit-learn>=0.24.2 in /home/ec2-user/anaconda3/envs/python3/lib/python3.10/site-packages (from diffprivlib<0.7.0,>=0.6.2->antigranular) (1.3.0)\n",
      "Requirement already satisfied: scipy>=1.7.3 in /home/ec2-user/anaconda3/envs/python3/lib/python3.10/site-packages (from diffprivlib<0.7.0,>=0.6.2->antigranular) (1.11.1)\n",
      "Requirement already satisfied: joblib>=0.16.0 in /home/ec2-user/anaconda3/envs/python3/lib/python3.10/site-packages (from diffprivlib<0.7.0,>=0.6.2->antigranular) (1.3.0)\n",
      "Requirement already satisfied: setuptools>=49.0.0 in /home/ec2-user/anaconda3/envs/python3/lib/python3.10/site-packages (from diffprivlib<0.7.0,>=0.6.2->antigranular) (68.0.0)\n",
      "Requirement already satisfied: jedi>=0.16 in /home/ec2-user/anaconda3/envs/python3/lib/python3.10/site-packages (from ipython<8.0.0,>=7.34.0->antigranular) (0.18.2)\n",
      "Requirement already satisfied: decorator in /home/ec2-user/anaconda3/envs/python3/lib/python3.10/site-packages (from ipython<8.0.0,>=7.34.0->antigranular) (5.1.1)\n",
      "Requirement already satisfied: pickleshare in /home/ec2-user/anaconda3/envs/python3/lib/python3.10/site-packages (from ipython<8.0.0,>=7.34.0->antigranular) (0.7.5)\n",
      "Requirement already satisfied: traitlets>=4.2 in /home/ec2-user/anaconda3/envs/python3/lib/python3.10/site-packages (from ipython<8.0.0,>=7.34.0->antigranular) (5.9.0)\n",
      "Requirement already satisfied: prompt-toolkit!=3.0.0,!=3.0.1,<3.1.0,>=2.0.0 in /home/ec2-user/anaconda3/envs/python3/lib/python3.10/site-packages (from ipython<8.0.0,>=7.34.0->antigranular) (3.0.39)\n",
      "Requirement already satisfied: pygments in /home/ec2-user/anaconda3/envs/python3/lib/python3.10/site-packages (from ipython<8.0.0,>=7.34.0->antigranular) (2.15.1)\n",
      "Requirement already satisfied: backcall in /home/ec2-user/anaconda3/envs/python3/lib/python3.10/site-packages (from ipython<8.0.0,>=7.34.0->antigranular) (0.2.0)\n",
      "Requirement already satisfied: matplotlib-inline in /home/ec2-user/anaconda3/envs/python3/lib/python3.10/site-packages (from ipython<8.0.0,>=7.34.0->antigranular) (0.1.6)\n",
      "Requirement already satisfied: pexpect>4.3 in /home/ec2-user/anaconda3/envs/python3/lib/python3.10/site-packages (from ipython<8.0.0,>=7.34.0->antigranular) (4.8.0)\n",
      "Requirement already satisfied: urllib3 in /home/ec2-user/anaconda3/envs/python3/lib/python3.10/site-packages (from oblv-client<0.2.0,>=0.1.15->antigranular) (1.26.14)\n",
      "Requirement already satisfied: protobuf>=3.20.2 in /home/ec2-user/anaconda3/envs/python3/lib/python3.10/site-packages (from onnx<2.0.0,>=1.14.0->antigranular) (4.24.3)\n",
      "Requirement already satisfied: python-dateutil>=2.8.1 in /home/ec2-user/anaconda3/envs/python3/lib/python3.10/site-packages (from pandas<2.0.0,>=1.5.3->antigranular) (2.8.2)\n",
      "Requirement already satisfied: pytz>=2020.1 in /home/ec2-user/anaconda3/envs/python3/lib/python3.10/site-packages (from pandas<2.0.0,>=1.5.3->antigranular) (2023.3)\n",
      "Requirement already satisfied: typing-extensions>=4.2.0 in /home/ec2-user/anaconda3/envs/python3/lib/python3.10/site-packages (from pydantic<2.0.0,>=1.10.7->antigranular) (4.7.1)\n",
      "Requirement already satisfied: charset-normalizer<4,>=2 in /home/ec2-user/anaconda3/envs/python3/lib/python3.10/site-packages (from requests<3.0.0,>=2.31.0->antigranular) (3.2.0)\n",
      "Requirement already satisfied: idna<4,>=2.5 in /home/ec2-user/anaconda3/envs/python3/lib/python3.10/site-packages (from requests<3.0.0,>=2.31.0->antigranular) (3.4)\n",
      "Requirement already satisfied: certifi>=2017.4.17 in /home/ec2-user/anaconda3/envs/python3/lib/python3.10/site-packages (from requests<3.0.0,>=2.31.0->antigranular) (2023.5.7)\n",
      "Requirement already satisfied: parso<0.9.0,>=0.8.0 in /home/ec2-user/anaconda3/envs/python3/lib/python3.10/site-packages (from jedi>=0.16->ipython<8.0.0,>=7.34.0->antigranular) (0.8.3)\n",
      "Requirement already satisfied: ptyprocess>=0.5 in /home/ec2-user/anaconda3/envs/python3/lib/python3.10/site-packages (from pexpect>4.3->ipython<8.0.0,>=7.34.0->antigranular) (0.7.0)\n",
      "Requirement already satisfied: wcwidth in /home/ec2-user/anaconda3/envs/python3/lib/python3.10/site-packages (from prompt-toolkit!=3.0.0,!=3.0.1,<3.1.0,>=2.0.0->ipython<8.0.0,>=7.34.0->antigranular) (0.2.6)\n",
      "Requirement already satisfied: six>=1.5 in /home/ec2-user/anaconda3/envs/python3/lib/python3.10/site-packages (from python-dateutil>=2.8.1->pandas<2.0.0,>=1.5.3->antigranular) (1.16.0)\n",
      "Requirement already satisfied: threadpoolctl>=2.0.0 in /home/ec2-user/anaconda3/envs/python3/lib/python3.10/site-packages (from scikit-learn>=0.24.2->diffprivlib<0.7.0,>=0.6.2->antigranular) (3.2.0)\n"
     ]
    }
   ],
   "source": [
    "!pip install antigranular"
   ]
  },
  {
   "cell_type": "code",
   "execution_count": 16,
   "metadata": {},
   "outputs": [],
   "source": [
    "import pandas as pd\n",
    "import numpy as np\n",
    "import seaborn as sns\n",
    "import matplotlib \n",
    "from matplotlib import pyplot as plt"
   ]
  },
  {
   "cell_type": "code",
   "execution_count": 17,
   "metadata": {
    "colab": {
     "base_uri": "https://localhost:8080/",
     "height": 69
    },
    "id": "oYJbhNaleFSZ",
    "outputId": "e5e4aae5-4a0c-4d76-82e0-9e431306d371"
   },
   "outputs": [
    {
     "data": {
      "text/html": [],
      "text/plain": [
       "<IPython.core.display.HTML object>"
      ]
     },
     "metadata": {},
     "output_type": "display_data"
    },
    {
     "name": "stdout",
     "output_type": "stream",
     "text": [
      "local_host_port: fd3b3d04-38c0-4536-8959-3778645950cd\n",
      "cert_thumbprint: ef5d99dfd71cb4fdfcb4f8af09b45f713de5fa19e8afe67ddc0ccaecf8ec0e5b7c7f8c55eec0691c3b4cd7d218d52e059a7307acfa632bd8cdd6856ccab31f42\n",
      "server_hostname: ip-100-100-13-100.eu-west-1.compute.internal\n",
      "tls_cert_name: ip-100-100-13-100.eu-west-1.compute.internal_fd3b3d04-38c0-4536-8959-3778645950cd\n",
      "Connected to Antigranular server session id: 8ae26611-4024-47b2-9497-8d85852b492a, the session will time out if idle for 60 minutes\n",
      "Cell magic '%%ag' registered successfully, use `%%ag` in a notebook cell to execute your python code on Antigranular private python server\n",
      "🚀 Everything's set up and ready to roll!\n"
     ]
    }
   ],
   "source": [
    "import antigranular as ag\n",
    "session = ag.login(\"+lk+lBXAIx/17y94lUpUk9CqhyHEprFx\", \"0w5KflBRC46dgB5gX4uHNZmeg6+fWvJfDN2RXnRxkCdh8hVXsMBCMZWdkXvDY0ru\", competition = \"UN Datathon PETs Track\")"
   ]
  },
  {
   "cell_type": "code",
   "execution_count": 18,
   "metadata": {},
   "outputs": [
    {
     "data": {
      "text/plain": [
       "{'total_epsilon_used': 2.019,\n",
       " 'total_delta_used': 0.0,\n",
       " 'library_costs': {'op_pandas': {'total_delta': 0,\n",
       "   'total_epsilon': 19.019,\n",
       "   'total_requests': 2}},\n",
       " 'dataset_costs': {'undata_adm': {'delta': 0, 'eps': 1.001},\n",
       "  'undata_assistance': {'delta': 0, 'eps': 1.001},\n",
       "  'undata_covid': {'delta': 0, 'eps': 1.001},\n",
       "  'undata_crp': {'delta': 0, 'eps': 1.001},\n",
       "  'undata_cs': {'delta': 0, 'eps': 1.001},\n",
       "  'undata_fcs': {'delta': 0, 'eps': 1.001},\n",
       "  'undata_fies': {'delta': 0, 'eps': 1.001},\n",
       "  'undata_fish': {'delta': 0, 'eps': 1.001},\n",
       "  'undata_hdds': {'delta': 0, 'eps': 1.001},\n",
       "  'undata_hh': {'delta': 0, 'eps': 1.001},\n",
       "  'undata_income': {'delta': 0, 'eps': 1.001},\n",
       "  'undata_ls': {'delta': 0, 'eps': 1.001},\n",
       "  'undata_ls_dif': {'delta': 0, 'eps': 1.001},\n",
       "  'undata_need': {'delta': 0, 'eps': 1.001},\n",
       "  'undata_other': {'delta': 0, 'eps': 1.001},\n",
       "  'undata_rcsi': {'delta': 0, 'eps': 1.001},\n",
       "  'undata_resp': {'delta': 0, 'eps': 1.001},\n",
       "  'undata_shock': {'delta': 0, 'eps': 1.001},\n",
       "  'undata_weight': {'delta': 0, 'eps': 1.001}}}"
      ]
     },
     "execution_count": 18,
     "metadata": {},
     "output_type": "execute_result"
    }
   ],
   "source": [
    "session.privacy_odometer()"
   ]
  },
  {
   "cell_type": "code",
   "execution_count": 19,
   "metadata": {
    "id": "n38PtVcuec4u"
   },
   "outputs": [],
   "source": [
    "%%ag\n",
    "undata_ls = load_dataset(\"undata_ls\")\n",
    "undata_ls_dif = load_dataset(\"undata_ls_dif\")\n",
    "undata_crp = load_dataset(\"undata_crp\")\n",
    "undata_fish = load_dataset(\"undata_fish\")\n",
    "undata_need = load_dataset(\"undata_need\")\n",
    "undata_shock = load_dataset(\"undata_shock\")\n",
    "undata_cs = load_dataset(\"undata_cs\")\n",
    "undata_income = load_dataset(\"undata_income\")\n",
    "undata_hdds = load_dataset(\"undata_hdds\")\n",
    "undata_covid = load_dataset(\"undata_covid\")\n",
    "undata_fies = load_dataset(\"undata_fies\")\n",
    "undata_hh = load_dataset(\"undata_hh\")\n",
    "undata_fcs = load_dataset(\"undata_fcs\")\n",
    "undata_assistance = load_dataset(\"undata_assistance\")\n",
    "undata_rcsi = load_dataset(\"undata_rcsi\")\n",
    "undata_weight = load_dataset(\"undata_weight\")\n",
    "undata_resp = load_dataset(\"undata_resp\")\n",
    "undata_adm = load_dataset(\"undata_adm\")\n",
    "undata_other = load_dataset(\"undata_other\")"
   ]
  },
  {
   "cell_type": "code",
   "execution_count": 20,
   "metadata": {},
   "outputs": [],
   "source": [
    "%%ag\n",
    "import op_pandas\n",
    "undata_all = op_pandas.merge(undata_ls, undata_ls_dif, on=\"objectid\")\n",
    "undata_all = op_pandas.merge(undata_all, undata_crp, on=\"objectid\")"
   ]
  },
  {
   "cell_type": "code",
   "execution_count": 22,
   "metadata": {},
   "outputs": [],
   "source": [
    "%%ag\n",
    "\n",
    "undata_all = op_pandas.merge(undata_all, undata_fish, on=\"objectid\")\n",
    "undata_all = op_pandas.merge(undata_all, undata_need, on=\"objectid\")\n",
    "undata_all = op_pandas.merge(undata_all, undata_shock, on=\"objectid\")\n",
    "undata_all = op_pandas.merge(undata_all, undata_cs, on=\"objectid\")\n",
    "undata_all = op_pandas.merge(undata_all, undata_income, on=\"objectid\")\n",
    "undata_all = op_pandas.merge(undata_all, undata_hdds, on=\"objectid\")\n",
    "undata_all = op_pandas.merge(undata_all, undata_covid, on=\"objectid\")\n",
    "undata_all = op_pandas.merge(undata_all, undata_fies, on=\"objectid\")\n",
    "undata_all = op_pandas.merge(undata_all, undata_hh, on=\"objectid\")\n",
    "undata_all = op_pandas.merge(undata_all, undata_fcs, on=\"objectid\")\n",
    "undata_all = op_pandas.merge(undata_all, undata_assistance, on=\"objectid\")\n",
    "undata_all = op_pandas.merge(undata_all, undata_rcsi, on=\"objectid\")\n",
    "undata_all = op_pandas.merge(undata_all, undata_weight, on=\"objectid\")\n",
    "undata_all = op_pandas.merge(undata_all, undata_resp, on=\"objectid\")\n",
    "undata_all = op_pandas.merge(undata_all, undata_adm, on=\"objectid\")\n",
    "undata_all = op_pandas.merge(undata_all, undata_other, on=\"objectid\")"
   ]
  },
  {
   "cell_type": "code",
   "execution_count": 24,
   "metadata": {},
   "outputs": [
    {
     "name": "stdout",
     "output_type": "stream",
     "text": [
      "undata_all Details: \n",
      "\n",
      "Columns: \n",
      " Index(['objectid', 'ls_main', 'ls_num_lastyr', 'ls_num_now', 'ls_num_diff',\n",
      "       'ls_num_increased', 'ls_num_decreased', 'ls_num_no_change',\n",
      "       'ls_num_inc_less_sales', 'ls_num_inc_more_birth',\n",
      "       ...\n",
      "       'qc_enumerator', 'qc_method', 'round', 'total_case_duration',\n",
      "       'tot_income', 'fcg', 'hhs', 'hhg', 'lcsi', 'language'],\n",
      "      dtype='object', length=355)\n",
      "Metadata: \n",
      " {'objectid': (3496, 239871), 'ls_main': (1.0, 999.0), 'ls_num_lastyr': (0.0, 200000.0), 'ls_num_now': (0.0, 200000.0), 'ls_num_diff': (-99955.0, 18000.0), 'ls_num_increased': (0.0, 1.0), 'ls_num_decreased': (0.0, 1.0), 'ls_num_no_change': (0.0, 1.0), 'ls_num_inc_less_sales': (0.0, 1.0), 'ls_num_inc_more_birth': (0.0, 1.0), 'ls_num_inc_more_acquired': (0.0, 1.0), 'ls_num_inc_received_free': (0.0, 1.0), 'ls_num_dec_poor_health': (0.0, 1.0), 'ls_num_dec_death': (0.0, 1.0), 'ls_num_dec_sales_good_price': (0.0, 1.0), 'ls_num_dec_sales_distress': (0.0, 1.0), 'ls_num_dec_escape_stolen': (0.0, 1.0), 'ls_num_dec_consumed': (0.0, 1.0), 'ls_num_inc_dec_other': (0.0, 1.0), 'ls_num_inc_dec_dk': (0.0, 1.0), 'ls_num_inc_dec_ref': (0.0, 1.0), 'ls_feed_open_pasture': (0.0, 1.0), 'ls_feed_common_pasture': (0.0, 1.0), 'ls_feed_self_produced': (0.0, 1.0), 'ls_feed_purchased': (0.0, 1.0), 'ls_feed_free_dist': (0.0, 1.0), 'ls_feed_other': (0.0, 1.0), 'ls_feed_dk': (0.0, 1.0), 'ls_feed_ref': (0.0, 1.0), 'ls_proddif': (0.0, 999.0), 'ls_proddif_feed_purchase': (0.0, 1.0), 'ls_proddif_access_pasture': (0.0, 1.0), 'ls_proddif_access_water': (0.0, 1.0), 'ls_proddif_vet_serv': (0.0, 1.0), 'ls_proddif_vet_input': (0.0, 1.0), 'ls_proddif_diseases': (0.0, 1.0), 'ls_proddif_theft': (0.0, 1.0), 'ls_proddif_access_market': (0.0, 1.0), 'ls_proddif_access_credit': (0.0, 1.0), 'ls_proddif_access_labour': (0.0, 1.0), 'ls_proddif_other': (0.0, 1.0), 'ls_proddif_dk': (0.0, 1.0), 'ls_proddif_ref': (0.0, 1.0), 'ls_salesmain': (1.0, 999.0), 'ls_salesdif': (0.0, 999.0), 'ls_salesdif_marketing_cost': (0.0, 1.0), 'ls_salesdif_damage_losses': (0.0, 1.0), 'ls_salesdif_low_demand': (0.0, 1.0), 'ls_salesdif_pay_delay': (0.0, 1.0), 'ls_salesdif_low_price': (0.0, 1.0), 'ls_salesdif_slaughterhouse': (0.0, 1.0), 'ls_salesdif_processing': (0.0, 1.0), 'ls_salesdif_competition': (0.0, 1.0), 'ls_salesdif_other': (0.0, 1.0), 'ls_salesdif_dk': (0.0, 1.0), 'ls_salesdif_ref': (0.0, 1.0), 'ls_salesprice': (1.0, 999.0), 'crp_landsize_ha': (0.0, 1720011.39965233), 'crp_main': (1100.0, 999000.0), 'crp_main_check': (0.0, 2.0), 'crp_irrig_source': (1.0, 999.0), 'crp_irrig_system': (0.0, 888.0), 'crp_irrig_pay': (0.0, 1.0), 'crp_seed_ownprod': (0.0, 1.0), 'crp_seed_market': (0.0, 1.0), 'crp_seed_company': (0.0, 1.0), 'crp_seed_ngo': (0.0, 1.0), 'crp_seed_organized_community': (0.0, 1.0), 'crp_seed_gov': (0.0, 1.0), 'crp_seed_relatives_friends': (0.0, 1.0), 'crp_seed_other': (0.0, 1.0), 'crp_seed_dk': (0.0, 1.0), 'crp_seed_ref': (0.0, 1.0), 'crp_area_change': (1.0, 999.0), 'crp_harv_change': (1.0, 999.0), 'crp_harv_vol_kg': (0.0, 0.0), 'crp_harv_lastyr_kg': (0.0, 20000.0), 'crp_proddif': (0.0, 999.0), 'crp_proddif_plant_disease': (0.0, 1.0), 'crp_proddif_pest_outbreak': (0.0, 1.0), 'crp_proddif_animal_grazing': (0.0, 1.0), 'crp_proddif_access_plot': (0.0, 1.0), 'crp_proddif_access_fertilize': (0.0, 1.0), 'crp_proddif_seed_quality': (0.0, 1.0), 'crp_proddif_seed_quantity': (0.0, 1.0), 'crp_proddif_access_pesticide': (0.0, 1.0), 'crp_proddif_access_labour': (0.0, 1.0), 'crp_proddif_access_machinery': (0.0, 1.0), 'crp_proddif_access_fuel': (0.0, 1.0), 'crp_proddif_soil_erosion': (0.0, 1.0), 'crp_proddif_lack_irrigation': (0.0, 1.0), 'crp_proddif_excess_water': (0.0, 1.0), 'crp_proddif_access_credit': (0.0, 1.0), 'crp_proddif_other': (0.0, 1.0), 'crp_proddif_dk': (0.0, 1.0), 'crp_proddif_ref': (0.0, 1.0), 'crp_storage': (0.0, 999.0), 'crp_salesmain': (1100.0, 999000.0), 'crp_salesdif': (0.0, 999.0), 'crp_saledif_marketing_cost': (0.0, 1.0), 'crp_saledif_damage_losses': (0.0, 1.0), 'crp_saledif_low_demand': (0.0, 1.0), 'crp_saledif_pay_delay': (0.0, 1.0), 'crp_saledif_low_price': (0.0, 1.0), 'crp_saledif_processing': (0.0, 1.0), 'crp_saledif_competition': (0.0, 1.0), 'crp_saledif_other': (0.0, 1.0), 'crp_saledif_dk': (0.0, 1.0), 'crp_saledif_ref': (0.0, 1.0), 'crp_salesprice': (1.0, 999.0), 'fish_main_coastal': (0.0, 1.0), 'fish_main_offshore_sea': (0.0, 1.0), 'fish_main_freshwater': (0.0, 1.0), 'fish_main_aquaculture': (0.0, 1.0), 'fish_main_dk': (0.0, 1.0), 'fish_main_ref': (0.0, 1.0), 'fish_change': (0.0, 999.0), 'fish_proddif': (0.0, 999.0), 'fish_proddif_find_fish': (0.0, 1.0), 'fish_proddif_pests': (0.0, 1.0), 'fish_proddif_access_area': (0.0, 1.0), 'fish_proddif_fuel': (0.0, 1.0), 'fish_proddif_input_access': (0.0, 1.0), 'fish_proddif_labour': (0.0, 1.0), 'fish_proddif_infrastructure': (0.0, 1.0), 'fish_proddif_damage_equip': (0.0, 1.0), 'fish_proddif_other': (0.0, 1.0), 'fish_proddif_dk': (0.0, 1.0), 'fish_proddif_ref': (0.0, 0.0), 'fish_inputdif_bait_feed': (0.0, 1.0), 'fish_inputdif_fingerling': (0.0, 1.0), 'fish_inputdif_gear': (0.0, 1.0), 'fish_inputdif_ice': (0.0, 1.0), 'fish_inputdif_fuel': (0.0, 1.0), 'fish_inputdif_repairs': (0.0, 1.0), 'fish_inputdif_labour': (0.0, 1.0), 'fish_inputdif_other': (0.0, 1.0), 'fish_inputdif_dk': (0.0, 0.0), 'fish_inputdif_ref': (0.0, 0.0), 'fish_salesmain': (0.0, 999.0), 'fish_salesdif': (0.0, 999.0), 'fish_saledif_marketing_cost': (0.0, 1.0), 'fish_saledif_damage_losses': (0.0, 1.0), 'fish_saledif_low_demand': (0.0, 1.0), 'fish_saledif_pay_delay': (0.0, 1.0), 'fish_saledif_low_prices': (0.0, 1.0), 'fish_saledif_processing': (0.0, 1.0), 'fish_saledif_competition': (0.0, 1.0), 'fish_saledif_other': (0.0, 1.0), 'fish_saledif_dk': (0.0, 1.0), 'fish_saledif_ref': (0.0, 0.0), 'fish_salesprice': (0.0, 999.0), 'need': (0.0, 999.0), 'need_food': (0.0, 1.0), 'need_cash': (0.0, 1.0), 'need_vouchers_fair': (0.0, 1.0), 'need_crop_inputs': (0.0, 1.0), 'need_crop_infrastructure': (0.0, 1.0), 'need_crop_knowledge': (0.0, 1.0), 'need_ls_feed': (0.0, 1.0), 'need_ls_vet_service': (0.0, 1.0), 'need_ls_infrastructure': (0.0, 1.0), 'need_ls_knowledge': (0.0, 1.0), 'need_fish_inputs': (0.0, 1.0), 'need_fish_infrastructure': (0.0, 1.0), 'need_fish_knowledge': (0.0, 1.0), 'need_env_infra_rehab': (0.0, 1.0), 'need_cold_storage': (0.0, 1.0), 'need_marketing_supp': (0.0, 1.0), 'need_other': (0.0, 1.0), 'need_dk': (0.0, 1.0), 'need_ref': (0.0, 1.0), 'need_received_food': (0.0, 1.0), 'need_received_cash': (0.0, 1.0), 'need_received_vouchers_fair': (0.0, 1.0), 'need_received_crop_assist': (0.0, 1.0), 'need_received_ls_assist': (0.0, 1.0), 'need_received_fish_assist': (0.0, 1.0), 'need_received_rehabilitation': (0.0, 1.0), 'need_received_sales_support': (0.0, 1.0), 'need_received_other': (0.0, 1.0), 'need_received_none': (0.0, 1.0), 'need_received_dk': (0.0, 1.0), 'need_received_ref': (0.0, 1.0), 'shock_noshock': (0.0, 1.0), 'shock_sicknessordeathofhh': (0.0, 1.0), 'shock_lostemplorwork': (0.0, 1.0), 'shock_otherintrahhshock': (0.0, 1.0), 'shock_higherfoodprices': (0.0, 1.0), 'shock_higherfuelprices': (0.0, 1.0), 'shock_mvtrestrict': (0.0, 1.0), 'shock_othereconomicshock': (0.0, 1.0), 'shock_pestoutbreak': (0.0, 1.0), 'shock_plantdisease': (0.0, 1.0), 'shock_animaldisease': (0.0, 1.0), 'shock_napasture': (0.0, 1.0), 'shock_othercropandlivests': (0.0, 1.0), 'shock_coldtemporhail': (0.0, 1.0), 'shock_flood': (0.0, 1.0), 'shock_hurricane': (0.0, 1.0), 'shock_drought': (0.0, 1.0), 'shock_earthquake': (0.0, 1.0), 'shock_landslides': (0.0, 1.0), 'shock_firenatural': (0.0, 1.0), 'shock_othernathazard': (0.0, 1.0), 'shock_violenceinsecconf': (0.0, 1.0), 'shock_theftofprodassets': (0.0, 1.0), 'shock_firemanmade': (0.0, 1.0), 'shock_othermanmadehazard': (0.0, 1.0), 'shock_dk': (0.0, 1.0), 'shock_ref': (0.0, 1.0), 'cs_hh_assets': (0.0, 999.0), 'cs_spent_savings': (0.0, 999.0), 'cs_sold_more_animals': (1.0, 999.0), 'cs_eat_elsewhere': (0.0, 999.0), 'cs_borrowed_or_helped': (0.0, 999.0), 'cs_credit': (0.0, 999.0), 'cs_borrowed_money': (1.0, 999.0), 'cs_changed_school': (0.0, 999.0), 'cs_sold_prod_assets': (1.0, 999.0), 'cs_no_school': (0.0, 999.0), 'cs_reduced_health_exp': (0.0, 999.0), 'cs_harv_immature_crops': (0.0, 999.0), 'cs_consume_seed_stock': (0.0, 999.0), 'cs_decrease_input_exp': (0.0, 999.0), 'cs_sold_house': (0.0, 999.0), 'cs_begged': (1.0, 999.0), 'cs_illegal': (0.0, 999.0), 'cs_sold_last_female': (0.0, 999.0), 'cs_hh_migration': (0.0, 999.0), 'income_main': (1.0, 999.0), 'income_main_amount': (0.0, 1480000000.0), 'income_main_gender': (0.0, 999.0), 'income_main_control': (0.0, 999.0), 'income_main_comp': (1.0, 999.0), 'income_sec': (1.0, 999.0), 'income_sec_amount': (0.0, 15000000.0), 'income_sec_gender': (0.0, 999.0), 'income_sec_control': (0.0, 999.0), 'income_sec_comp': (1.0, 999.0), 'income_third': (1.0, 999.0), 'income_third_amount': (0.0, 10000000.0), 'income_third_gender': (0.0, 999.0), 'income_third_control': (0.0, 999.0), 'income_third_comp': (1.0, 999.0), 'hdds_cereals': (0.0, 1.0), 'hdds_rootstubers': (0.0, 1.0), 'hdds_vegetables': (0.0, 1.0), 'hdds_fruits': (0.0, 1.0), 'hdds_meat': (0.0, 1.0), 'hdds_eggs': (0.0, 1.0), 'hdds_fish': (0.0, 1.0), 'hdds_legumes': (0.0, 1.0), 'hdds_milkdairy': (0.0, 1.0), 'hdds_oils': (0.0, 1.0), 'hdds_sugar': (0.0, 1.0), 'hdds_condiments': (0.0, 1.0), 'hdds_score': (0.0, 12.0), 'hdds_class': (0.0, 3.0), 'covid_goodstransp': (0.0, 1.0), 'covid_marketclosed': (0.0, 1.0), 'covid_borderclosed': (0.0, 1.0), 'covid_stayhome': (0.0, 1.0), 'covid_gatherings': (0.0, 1.0), 'covid_processclosed': (0.0, 1.0), 'covid_curfew': (0.0, 1.0), 'covid_school': (0.0, 1.0), 'covid_other': (0.0, 1.0), 'covid_none': (0.0, 1.0), 'covid_dk': (0.0, 1.0), 'covid_ref': (0.0, 1.0), 'fies_worried': (0.0, 999.0), 'fies_healthy': (0.0, 999.0), 'fies_fewfoods': (0.0, 999.0), 'fies_skipped': (0.0, 999.0), 'fies_ateless': (0.0, 999.0), 'fies_ranout': (0.0, 999.0), 'fies_ranout_hhs': (0.0, 888.0), 'fies_hungry': (0.0, 999.0), 'fies_hungry_hhs': (0.0, 999.0), 'fies_whlday': (0.0, 999.0), 'fies_whlday_hhs': (0.0, 888.0), 'fies_rawscore': (0.0, 14.0), 'hh_agricactivity': (1, 999), 'hh_gender': (1.0, 999.0), 'hh_education': (1.0, 999.0), 'hh_wealth_water': (1.0, 999.0), 'hh_wealth_toilet': (0.0, 999.0), 'hh_wealth_light': (0.0, 999.0), 'hh_residencetype': (1.0, 999.0), 'hh_size': (1.0, 38.0), 'hh_maritalstat': (0.0, 999.0), 'hh_age': (1.0, 999.0), 'fcs': (0.0, 112.0), 'fcs_staple_days': (0.0, 7.0), 'fcs_pulses_days': (0.0, 7.0), 'fcs_vegetables_days': (0.0, 7.0), 'fcs_fruit_days': (0.0, 7.0), 'fcs_meat_fish_days': (0.0, 7.0), 'fcs_dairy_days': (0.0, 7.0), 'fcs_sugar_days': (0.0, 7.0), 'fcs_oil_days': (0.0, 7.0), 'fcs_condiments_days': (0.0, 7.0), 'assistance_quality': (0.0, 999.0), 'assistance_fao': (0.0, 1.0), 'assistance_wfp': (0.0, 1.0), 'assistance_otherun': (0.0, 1.0), 'assistance_gov': (0.0, 1.0), 'assistance_ngo': (0.0, 1.0), 'assistance_dk': (0.0, 1.0), 'assistance_ref': (0.0, 1.0), 'rcsi_less_preferred_foods': (0.0, 7.0), 'rcsi_borrowed_food': (0.0, 7.0), 'rcsi_reduce_number_meals': (0.0, 7.0), 'rcsi_limit_portions': (0.0, 7.0), 'rcsi_restrict_adult_consumpt': (0.0, 7.0), 'rcsi_score': (0.0, 56.0), 'rcsi_class': (0.0, 3.0), 'weight_base': (0.0369142, 17.26556363), 'weight_quota': (0.0, 7.3663035), 'weight_crop_prod': (0.0, 1.8019741900000001), 'weight_livestock_prod': (0.0, 1.68376), 'weight_wealth': (0.0, 22.22542373), 'weight_educ': (0.0, 28.91245136), 'weight_final': (5.645e-05, 35.58101579), 'resp_age': (13.0, 50363829.0), 'resp_gender': (1.0, 999.0), 'resp_isfishproducer': (0.0, 1.0), 'resp_iscropproducer': (0.0, 1.0), 'resp_islsproducer': (0.0, 1.0), 'adm0_m49': (4, 887), 'adm_level': (1.0, 2.0), 'p_mod': (0.0, 1.0), 'p_sev': (0.0, 0.99998189), 'p_ipc3plus': (0.0, 0.99999885), 'round': (2.0, 12.0), 'total_case_duration': (-31652.0, 31215.0), 'tot_income': (0.0, 33333300.0), 'fcg': (0.0, 3.0), 'hhs': (0.0, 6.0), 'hhg': (0.0, 4.0), 'lcsi': (0.0, 3.0), 'language': (1.0, 72.0)}\n",
      "Dtypes: \n",
      " objectid           int64\n",
      "ls_main          float64\n",
      "ls_num_lastyr    float64\n",
      "ls_num_now       float64\n",
      "ls_num_diff      float64\n",
      "                  ...   \n",
      "fcg              float64\n",
      "hhs              float64\n",
      "hhg              float64\n",
      "lcsi             float64\n",
      "language         float64\n",
      "Length: 355, dtype: object\n",
      "\n"
     ]
    }
   ],
   "source": [
    "%%ag\n",
    "\n",
    "ag_print(\"undata_all Details: \\n\")\n",
    "ag_print(\"Columns: \\n\", undata_all.columns)\n",
    "ag_print(\"Metadata: \\n\", undata_all.metadata)\n",
    "ag_print(\"Dtypes: \\n\", undata_all.dtypes)"
   ]
  },
  {
   "cell_type": "code",
   "execution_count": null,
   "metadata": {},
   "outputs": [],
   "source": [
    "# dp_hist, dp_bins = livestock_sales_data\n",
    "# # Create a bar plot using Matplotlib\n",
    "# plt.bar(dp_bins[:-1], dp_hist, width=np.diff(dp_bins)*0.8, align='edge')\n",
    "\n",
    "# # Display the plot\n",
    "# plt.show()"
   ]
  },
  {
   "cell_type": "code",
   "execution_count": 25,
   "metadata": {},
   "outputs": [
    {
     "name": "stderr",
     "output_type": "stream",
     "text": [
      "/code/dependencies/op_pandas/op_pandas/core/private_dataframe.py:115: SettingWithCopyWarning: \n",
      "A value is trying to be set on a copy of a slice from a DataFrame\n",
      "\n",
      "See the caveats in the documentation: https://pandas.pydata.org/pandas-docs/stable/user_guide/indexing.html#returning-a-view-versus-a-copy\n",
      "  self._df[col].clip(lower=self._metadata[col][0], upper=self._metadata[col][1], inplace=True)\n",
      "\n"
     ]
    }
   ],
   "source": [
    "%%ag\n",
    "# Select the income-related columns\n",
    "income_columns = ['income_main', 'income_main_amount', 'income_main_gender', 'income_main_control', 'income_main_comp', \n",
    "                  'income_sec', 'income_sec_amount', 'income_sec_gender', 'income_sec_control', 'income_sec_comp', \n",
    "                  'income_third', 'income_third_amount', 'income_third_gender', 'income_third_control']\n",
    "\n",
    "# Select the desired columns from the DataFrame\n",
    "income_data = undata_all[income_columns]\n",
    "\n",
    "\n"
   ]
  },
  {
   "cell_type": "code",
   "execution_count": 26,
   "metadata": {},
   "outputs": [
    {
     "name": "stdout",
     "output_type": "stream",
     "text": [
      "Setting up exported variable in local environment: income_main_gender\n"
     ]
    }
   ],
   "source": [
    "%%ag\n",
    "\n",
    "income_data_hist = income_data.hist(column='income_main_gender',eps=0.001)\n",
    "export(income_data_hist , 'income_main_gender')"
   ]
  },
  {
   "cell_type": "code",
   "execution_count": 28,
   "metadata": {},
   "outputs": [
    {
     "data": {
      "image/png": "[encoded data removed]",
      "text/plain": [
       "<Figure size 640x480 with 1 Axes>"
      ]
     },
     "metadata": {},
     "output_type": "display_data"
    }
   ],
   "source": [
    "import matplotlib.pyplot as plt\n",
    "dp_hist, dp_bins = income_main_gender\n",
    "# Create a bar plot using Matplotlib\n",
    "plt.bar(dp_bins[:-1], dp_hist, width=np.diff(dp_bins)*0.8, align='edge')\n",
    "\n",
    "# Display the plot\n",
    "plt.show()"
   ]
  },
  {
   "cell_type": "code",
   "execution_count": null,
   "metadata": {},
   "outputs": [],
   "source": [
    "# session.terminate_session()"
   ]
  },
  {
   "cell_type": "code",
   "execution_count": 29,
   "metadata": {},
   "outputs": [
    {
     "name": "stdout",
     "output_type": "stream",
     "text": [
      "\u001b[0;31mRuntimeError\u001b[0m: Restricted, value_counts is blocked on the applied object\n"
     ]
    },
    {
     "name": "stderr",
     "output_type": "stream",
     "text": [
      "/code/dependencies/op_pandas/op_pandas/core/private_dataframe.py:115: SettingWithCopyWarning: \n",
      "A value is trying to be set on a copy of a slice from a DataFrame\n",
      "\n",
      "See the caveats in the documentation: https://pandas.pydata.org/pandas-docs/stable/user_guide/indexing.html#returning-a-view-versus-a-copy\n",
      "  self._df[col].clip(lower=self._metadata[col][0], upper=self._metadata[col][1], inplace=True)\n",
      "/code/dependencies/op_pandas/op_pandas/core/private_series.py:168: SettingWithCopyWarning: \n",
      "A value is trying to be set on a copy of a slice from a DataFrame\n",
      "\n",
      "See the caveats in the documentation: https://pandas.pydata.org/pandas-docs/stable/user_guide/indexing.html#returning-a-view-versus-a-copy\n",
      "  self._series.clip(lower=self._metadata[0], upper=self._metadata[1], inplace=True)\n",
      "\n"
     ]
    }
   ],
   "source": [
    "%%ag\n",
    "import pandas as pd\n",
    "income_data = undata_all[income_columns]\n",
    "category_counts = income_data['income_main'].value_counts()\n",
    "\n",
    "# Create a bar plot\n",
    "category_counts.plot(kind='bar', color='skyblue', figsize=(12, 6))\n",
    "plt.title('Income Categories - Main')\n",
    "plt.xlabel('Category')\n",
    "plt.ylabel('Count')\n",
    "plt.xticks(rotation=45)  # Rotate the x-axis labels for better readability\n",
    "plt.show()"
   ]
  },
  {
   "cell_type": "code",
   "execution_count": null,
   "metadata": {},
   "outputs": [],
   "source": [
    "%%ag\n",
    "import op_snsql\n",
    "privacy = op_snsql.Privacy(epsilon=0.01)\n",
    "reader = op_snsql.from_df(df=undata_all, privacy=privacy)\n",
    "\n",
    "c0 = reader.execute(\"SELECT COUNT(shock_higherfoodprices) as no from undata_all WHERE shock_higherfoodprices == 0\")\n",
    "c1 = reader.execute(\"SELECT COUNT(shock_higherfoodprices) as yes from undata_all WHERE shock_higherfoodprices == 1\")\n",
    "\n",
    "export(str([c0,c1]) , 'counts')"
   ]
  },
  {
   "cell_type": "code",
   "execution_count": null,
   "metadata": {},
   "outputs": [],
   "source": [
    "count_data = eval(counts)\n",
    "col , count = [i[0][0] for i in count_data] , [i[1][0] for i in count_data]"
   ]
  },
  {
   "cell_type": "code",
   "execution_count": null,
   "metadata": {},
   "outputs": [],
   "source": [
    "sns.barplot(x=col , y=count)\n",
    "plt.xlabel('Categories')\n",
    "plt.ylabel('Counts')\n",
    "plt.show()\n",
    "     "
   ]
  },
  {
   "cell_type": "code",
   "execution_count": null,
   "metadata": {},
   "outputs": [],
   "source": []
  }
 ],
 "metadata": {
  "colab": {
   "provenance": []
  },
  "kernelspec": {
   "display_name": "conda_python3",
   "language": "python",
   "name": "conda_python3"
  },
  "language_info": {
   "codemirror_mode": {
    "name": "ipython",
    "version": 3
   },
   "file_extension": ".py",
   "mimetype": "text/x-python",
   "name": "python",
   "nbconvert_exporter": "python",
   "pygments_lexer": "ipython3",
   "version": "3.10.12"
  }
 },
 "nbformat": 4,
 "nbformat_minor": 1
}
